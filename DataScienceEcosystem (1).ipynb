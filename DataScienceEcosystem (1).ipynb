{
  "nbformat": 4,
  "nbformat_minor": 0,
  "metadata": {
    "colab": {
      "provenance": []
    },
    "kernelspec": {
      "name": "python3",
      "display_name": "Python 3"
    },
    "language_info": {
      "name": "python"
    }
  },
  "cells": [
    {
      "cell_type": "markdown",
      "source": [
        "# Data science Tools and Ecosystem\n"
      ],
      "metadata": {
        "id": "8YNtvwwmYqje"
      }
    },
    {
      "cell_type": "markdown",
      "source": [
        "in this notebook, Data Science Tools and Ecosystem are summarized"
      ],
      "metadata": {
        "id": "rG2aay24ZOVz"
      }
    },
    {
      "cell_type": "markdown",
      "source": [
        "**Objectives:**\n",
        "\n",
        "- List popular languages for Data Science  \n",
        "- list popular libraries for data science  \n",
        "- list popular data science tools\n",
        "- show examples of aritmethic expression\n"
      ],
      "metadata": {
        "id": "8EjibWDNrlnI"
      }
    },
    {
      "cell_type": "markdown",
      "source": [
        "some of the popular languages that Data Scientists use are :"
      ],
      "metadata": {
        "id": "OX56-DpkZYFN"
      }
    },
    {
      "cell_type": "markdown",
      "source": [
        "1.   python\n",
        "2.   R\n",
        "3.   julia"
      ],
      "metadata": {
        "id": "yTl976XcZ2rg"
      }
    },
    {
      "cell_type": "markdown",
      "source": [
        "Some of the commonly uses libraries uses by Data Scientists include:"
      ],
      "metadata": {
        "id": "Aeqn0J7LZ92-"
      }
    },
    {
      "cell_type": "markdown",
      "source": [
        "1.   pandas\n",
        "2.   matplotlib\n",
        "3.   carot"
      ],
      "metadata": {
        "id": "l8niAsBqahHN"
      }
    },
    {
      "cell_type": "markdown",
      "source": [
        "| Data Science Tools        |\n",
        "|---------------------------|\n",
        "| Jupyter Notebook          |\n",
        "| RStudio                   |\n",
        "| Apache Zeppelin           |"
      ],
      "metadata": {
        "id": "UaVi_O2aa3VT"
      }
    },
    {
      "cell_type": "markdown",
      "source": [
        "below are a fe examples of evaluating aritmetic expressions in Python"
      ],
      "metadata": {
        "id": "QeYCxmhxevTX"
      }
    },
    {
      "cell_type": "markdown",
      "source": [
        "this is a simple arithmetic expression to multiply then add integers"
      ],
      "metadata": {
        "id": "-yo_DbbzfT5u"
      }
    },
    {
      "cell_type": "code",
      "source": [
        "(3*4)+5"
      ],
      "metadata": {
        "colab": {
          "base_uri": "https://localhost:8080/"
        },
        "id": "6pkZvF-cfNj0",
        "outputId": "fc2a5c3a-3356-42da-9d67-a06f6bd7d1a4"
      },
      "execution_count": 9,
      "outputs": [
        {
          "output_type": "execute_result",
          "data": {
            "text/plain": [
              "17"
            ]
          },
          "metadata": {},
          "execution_count": 9
        }
      ]
    },
    {
      "cell_type": "markdown",
      "source": [
        "this will convert 200 minutes to hours by dividing by 60"
      ],
      "metadata": {
        "id": "OAem2RBXfi1W"
      }
    },
    {
      "cell_type": "code",
      "source": [
        "200/60"
      ],
      "metadata": {
        "colab": {
          "base_uri": "https://localhost:8080/"
        },
        "id": "rLaTiMN2fzih",
        "outputId": "c2fc99c9-1aa3-4a91-ba6d-e2f7c66d49fd"
      },
      "execution_count": 10,
      "outputs": [
        {
          "output_type": "execute_result",
          "data": {
            "text/plain": [
              "3.3333333333333335"
            ]
          },
          "metadata": {},
          "execution_count": 10
        }
      ]
    },
    {
      "cell_type": "markdown",
      "source": [
        "## author\n",
        "aymen\n"
      ],
      "metadata": {
        "id": "imm4RdNIgJu6"
      }
    },
    {
      "cell_type": "markdown",
      "source": [],
      "metadata": {
        "id": "mb3tt8Lzgvq3"
      }
    }
  ]
}